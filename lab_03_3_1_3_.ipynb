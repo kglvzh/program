{
  "cells": [
    {
      "cell_type": "markdown",
      "metadata": {
        "id": "udIB4JfA6ef6"
      },
      "source": [
        "## lab_03_3-1 по теме «Создание простых классов»"
      ]
    },
    {
      "cell_type": "markdown",
      "metadata": {
        "id": "k9Ys_BP23_u_"
      },
      "source": [
        "Класс `A`:\n",
        "*   Поля `a` и `b`: в Python для имитации \"недоступности напрямую\" используется префикс из двух подчеркиваний (например, `self.__a`, `self.__b`). Это включает механизм name mangling.\n",
        "*   Инициализация полей: Происходит в конструкторе `__init__`.\n",
        "*   Свойство `c`: реализуется с помощью декоратора `@property`. Оно будет вычислять значение на основе `self.__a` и `self.__b` согласно варианту.\n",
        "*   Типы полей: Python динамически типизирован, но мы будем приводить входные значения к нужным типам (int, float, Decimal из модуля decimal). Для decimal потребуется from decimal import Decimal, getcontext, InvalidOperation, DivisionByZero.\n",
        "\n",
        "\n",
        "*   Класс `A` с \"приватными\" полями `__a` и `__b`.\n",
        "*   Инициализация этих полей в конструкторе с преобразованием типа.\n",
        "*   Свойство `c`, которое вычисляет простое выражение.\n",
        "*   Класс `Programm` (или его аналог) для создания объекта и вывода `c`.\n",
        "\n",
        "**Вариант на основе Варианта 3 (float, \\*,-), но сделаем  только `a * b`.**\n",
        "\n",
        "**Упрощенное задание:**\n",
        "\n",
        "1.  **Класс `A_Simple`:**\n",
        "    *   Поля `a`, `b` (тип `float`). Инициализируются при создании объекта. Должны быть \"недоступны\" напрямую.\n",
        "    *   Свойство `c`: вычисляет `a * b`.\n",
        "2.  **Программа:**\n",
        "    *   Запрашивает у пользователя значения для `a` и `b`.\n",
        "    *   Создает объект класса `A_Simple`.\n",
        "    *   Выводит значение свойства `c`."
      ]
    },
    {
      "cell_type": "code",
      "execution_count": 5,
      "metadata": {
        "id": "s08TQaQG3SlF"
      },
      "outputs": [
        {
          "name": "stdout",
          "output_type": "stream",
          "text": [
            "--- Программа для демонстрации простого класса A_Simple ---\n",
            "Объект A_Simple создан с a=63, b=34\n",
            "\n",
            "--- Проверка инкапсуляции ---\n",
            "Ошибка при попытке прямого доступа к __a: 'A_Simple' object has no attribute '__a' (Ожидаемо!)\n",
            "Реальное имя поля (name mangling): _A_Simple__a, значение: 63\n",
            "\n",
            "--- Получение и вывод свойства 'c' ---\n",
            "Вычисляется свойство 'c'...\n",
            "Значение свойства 'c' (a * b) + (a + b): 2239\n",
            "\n",
            "--- Информация об объекте ---\n",
            "A_Simple(a=63, b=34)\n"
          ]
        }
      ],
      "source": [
        "# --- Класс A_Simple ---\n",
        "class A_Simple:\n",
        "    def __init__(self, a, b):\n",
        "        \"\"\"\n",
        "        Конструктор класса A_Simple.\n",
        "        Инициализирует 'приватные' поля __a и __b, преобразуя строки в float.\n",
        "        \"\"\"\n",
        "        try:\n",
        "            self.__a = int(a)\n",
        "            self.__b = int(b)\n",
        "            print(f\"Объект A_Simple создан с a={self.__a}, b={self.__b}\")\n",
        "        except ValueError:\n",
        "            # Если преобразование не удалось, выбрасываем ошибку,\n",
        "            # которую можно будет обработать при создании объекта.\n",
        "            raise ValueError(\"Ошибка: значения для 'a' и 'b' должны быть числами (float).\")\n",
        "\n",
        "    @property\n",
        "    def c(self):\n",
        "        \"\"\"\n",
        "        Свойство 'c'. Вычисляет произведение __a и __b.\n",
        "        \"\"\"\n",
        "        print(\"Вычисляется свойство 'c'...\")\n",
        "        # Простое выражение: a * b\n",
        "        r_a = self.__a * self.__b\n",
        "        r_b = self.__a + self.__b\n",
        "        result = r_a + r_b\n",
        "        return result\n",
        "\n",
        "    def __str__(self):\n",
        "        # Необязательный метод для более красивого вывода информации об объекте\n",
        "        return f\"A_Simple(a={self.__a}, b={self.__b})\"\n",
        "\n",
        "# --- \"Programm\" - основной блок для запуска ---\n",
        "if __name__ == \"__main__\":\n",
        "    print(\"--- Программа для демонстрации простого класса A_Simple ---\")\n",
        "\n",
        "    # 1. Запрос входных данных от пользователя\n",
        "    input_a_str = input(\"Введите значение для a (число): \")\n",
        "    input_b_str = input(\"Введите значение для b (число): \")\n",
        "\n",
        "    try:\n",
        "        # 2. Создание объекта класса A_Simple\n",
        "        my_object_A = A_Simple(input_a_str, input_b_str)\n",
        "\n",
        "        # Демонстрация того, что поля __a и __b \"недоступны\" напрямую\n",
        "        # (вызовет AttributeError из-за name mangling)\n",
        "        print(\"\\n--- Проверка инкапсуляции ---\")\n",
        "        try:\n",
        "            print(f\"Попытка прямого доступа к my_object_A.__a: {my_object_A.__a}\")\n",
        "        except AttributeError as e:\n",
        "            print(f\"Ошибка при попытке прямого доступа к __a: {e} (Ожидаемо!)\")\n",
        "            # В Python это будет _A_Simple__a\n",
        "            print(f\"Реальное имя поля (name mangling): _A_Simple__a, значение: {my_object_A._A_Simple__a}\")\n",
        "\n",
        "\n",
        "        # 3. Вывод значения свойства c\n",
        "        print(\"\\n--- Получение и вывод свойства 'c' ---\")\n",
        "        value_c = my_object_A.c  # Здесь вызывается метод c(), помеченный как @property\n",
        "        print(f\"Значение свойства 'c' (a * b) + (a + b): {value_c}\")\n",
        "\n",
        "        # Демонстрация __str__\n",
        "        print(\"\\n--- Информация об объекте ---\")\n",
        "        print(my_object_A)\n",
        "\n",
        "    except ValueError as e_init:\n",
        "        print(f\"Произошла ошибка при создании объекта: {e_init}\")\n",
        "    except Exception as e_general:\n",
        "        print(f\"Непредвиденная ошибка в программе: {e_general}\")"
      ]
    },
    {
      "cell_type": "markdown",
      "metadata": {
        "id": "TMBsJYoT6imK"
      },
      "source": [
        "## lab_03_3-3 по теме по теме «Методы класса»."
      ]
    },
    {
      "cell_type": "markdown",
      "metadata": {
        "id": "HDxzoWzy68Hp"
      },
      "source": [
        "1.3.1 Создайте для класса «студент» функцию, которая считает средний\n",
        "балл по трем дисциплинам, оценки по которым вводятся пользователям.\n",
        "Реализуйте программу двумя способами: без использования\n",
        "конструктора__init__и с ним."
      ]
    },
    {
      "cell_type": "markdown",
      "metadata": {
        "id": "BHXJfqqA7IaI"
      },
      "source": [
        "### Способ 1. Без использования конструктора __init__\n",
        "В этом случае мы будем создавать поля объекта \"на лету\" после создания экземпляра или передавать оценки непосредственно в метод расчета."
      ]
    },
    {
      "cell_type": "code",
      "execution_count": 1,
      "metadata": {
        "id": "M1daJj4c67Hg"
      },
      "outputs": [
        {
          "name": "stdout",
          "output_type": "stream",
          "text": [
            "--- Способ 1: Без использования конструктора __init__ ---\n",
            "Студент: Иван\n",
            "\n",
            "--- Расчет через передачу оценок в метод ---\n",
            "Средний балл (метод 1): 4.00\n",
            "\n",
            "--- Установка оценок и расчет (без __init__) ---\n",
            "Средний балл (метод 2): 4.00\n",
            "------------------------------\n"
          ]
        }
      ],
      "source": [
        "class Student_NoInit:\n",
        "    # Атрибуты будут добавлены экземпляру позже или переданы в метод\n",
        "\n",
        "    def calculate_average_grade(self, grade1, grade2, grade3):\n",
        "        \"\"\"\n",
        "        Рассчитывает средний балл по трем оценкам.\n",
        "        Оценки передаются как аргументы.\n",
        "        \"\"\"\n",
        "        try:\n",
        "            g1 = float(grade1)\n",
        "            g2 = float(grade2)\n",
        "            g3 = float(grade3)\n",
        "\n",
        "            if not (0 <= g1 <= 100 and 0 <= g2 <= 100 and 0 <= g3 <= 100): # Примерная проверка диапазона оценок\n",
        "                 print(\"Предупреждение: Одна или несколько оценок вне допустимого диапазона (0-100).\")\n",
        "\n",
        "            average = (g1 + g2 + g3) / 3\n",
        "            return average\n",
        "        except ValueError:\n",
        "            return \"Ошибка: Все оценки должны быть числами.\"\n",
        "        except Exception as e:\n",
        "            return f\"Произошла ошибка: {e}\"\n",
        "\n",
        "    def set_grades_and_calculate_average(self):\n",
        "        \"\"\"\n",
        "        Запрашивает оценки у пользователя, сохраняет их как атрибуты экземпляра\n",
        "        (хотя это не типично для такого подхода) и вычисляет средний балл.\n",
        "        Этот метод больше для демонстрации установки атрибутов \"на лету\".\n",
        "        \"\"\"\n",
        "        print(\"\\n--- Установка оценок и расчет (без __init__) ---\")\n",
        "        try:\n",
        "            self.grade_math_str = input(\"Введите оценку по Математике: \")\n",
        "            self.grade_physics_str = input(\"Введите оценку по Физике: \")\n",
        "            self.grade_history_str = input(\"Введите оценку по Истории: \")\n",
        "\n",
        "            self.grade_math = float(self.grade_math_str)\n",
        "            self.grade_physics = float(self.grade_physics_str)\n",
        "            self.grade_history = float(self.grade_history_str)\n",
        "\n",
        "            # Проверка диапазона (можно вынести в отдельную функцию)\n",
        "            for grade_val in [self.grade_math, self.grade_physics, self.grade_history]:\n",
        "                if not (0 <= grade_val <= 100):\n",
        "                    print(f\"Предупреждение: Оценка {grade_val} вне допустимого диапазона (0-100).\")\n",
        "                    # Можно здесь вернуть ошибку или продолжить расчет\n",
        "\n",
        "            average = (self.grade_math + self.grade_physics + self.grade_history) / 3\n",
        "            return average\n",
        "        except ValueError:\n",
        "            return \"Ошибка: Все оценки должны быть числами.\"\n",
        "        except Exception as e:\n",
        "            return f\"Произошла ошибка: {e}\"\n",
        "\n",
        "\n",
        "# --- Программа для демонстрации (без __init__) ---\n",
        "print(\"--- Способ 1: Без использования конструктора __init__ ---\")\n",
        "\n",
        "# Создаем экземпляр студента\n",
        "student1_no_init = Student_NoInit()\n",
        "student1_no_init.name = \"Иван\" # Устанавливаем атрибут \"на лету\"\n",
        "\n",
        "print(f\"Студент: {student1_no_init.name}\")\n",
        "\n",
        "# Вариант 1: Передаем оценки напрямую в метод\n",
        "print(\"\\n--- Расчет через передачу оценок в метод ---\")\n",
        "g1_input = input(\"Введите оценку по Дисциплине 1: \")\n",
        "g2_input = input(\"Введите оценку по Дисциплине 2: \")\n",
        "g3_input = input(\"Введите оценку по Дисциплине 3: \")\n",
        "\n",
        "avg_grade1 = student1_no_init.calculate_average_grade(g1_input, g2_input, g3_input)\n",
        "if isinstance(avg_grade1, float):\n",
        "    print(f\"Средний балл (метод 1): {avg_grade1:.2f}\")\n",
        "else:\n",
        "    print(avg_grade1) # Вывод сообщения об ошибке\n",
        "\n",
        "# Вариант 2: Используем метод, который сам запрашивает и устанавливает оценки\n",
        "# Этот вариант менее каноничен для \"без __init__\", но показывает гибкость Python\n",
        "avg_grade2 = student1_no_init.set_grades_and_calculate_average()\n",
        "if isinstance(avg_grade2, float):\n",
        "    print(f\"Средний балл (метод 2): {avg_grade2:.2f}\")\n",
        "    # Проверим, что атрибуты были установлены\n",
        "    # print(f\"Оценки объекта: Математика={student1_no_init.grade_math}, Физика={student1_no_init.grade_physics}, История={student1_no_init.grade_history}\")\n",
        "else:\n",
        "    print(avg_grade2)\n",
        "\n",
        "print(\"-\" * 30)"
      ]
    },
    {
      "cell_type": "markdown",
      "metadata": {
        "id": "SMsS6cgn7oJ5"
      },
      "source": [
        "Класс `Student_NoInit`:\n",
        "Не имеет метода __init__.\n",
        "*  `calculate_average_grade(self, grade1, grade2, grade3)`: Этот метод является основным для расчета. Он принимает три оценки как аргументы, преобразует их в float и вычисляет среднее. Обрабатывает возможную ошибку `ValueError`, если ввод нечисловой.\n",
        "*  `set_grades_and_calculate_average(self)`: Этот метод добавлен для демонстрации. Он запрашивает оценки, создает атрибуты экземпляра (`self.grade_math` и т.д.) \"на лету\" и затем использует их для расчета. Это менее типично, так как обычно, если данные нужны объекту для его состояния, их передают через конструктор."
      ]
    },
    {
      "cell_type": "markdown",
      "metadata": {
        "id": "MYV-3Jq77h9g"
      },
      "source": [
        "## Способ 2. С использованием конструктора __init__\n",
        "В этом случае оценки (или данные для их получения) будут передаваться при создании объекта, и конструктор будет инициализировать соответствующие поля."
      ]
    },
    {
      "cell_type": "code",
      "execution_count": 2,
      "metadata": {
        "id": "MVWeqiIU79jm"
      },
      "outputs": [
        {
          "name": "stdout",
          "output_type": "stream",
          "text": [
            "\n",
            "--- Способ 2: С использованием конструктора __init__ ---\n",
            "Средний балл для Николай: 3.33\n",
            "Студент: Николай, Средний балл: 3.33\n",
            "Студент: Елена, Средний балл: 89.00\n",
            "Не удалось создать объект студента: Ошибка при инициализации: оценки должны быть числами.\n",
            "------------------------------\n"
          ]
        }
      ],
      "source": [
        "class Student_WithInit:\n",
        "    def __init__(self, name, grade_subj1_str, grade_subj2_str, grade_subj3_str):\n",
        "        \"\"\"\n",
        "        Конструктор класса Student.\n",
        "        Инициализирует имя студента и его оценки по трем дисциплинам.\n",
        "        \"\"\"\n",
        "        self.name = name\n",
        "        self.subject1_name = \"Дисциплина 1\" # Можно сделать параметрами конструктора\n",
        "        self.subject2_name = \"Дисциплина 2\"\n",
        "        self.subject3_name = \"Дисциплина 3\"\n",
        "\n",
        "        try:\n",
        "            self.grade_subj1 = float(grade_subj1_str)\n",
        "            self.grade_subj2 = float(grade_subj2_str)\n",
        "            self.grade_subj3 = float(grade_subj3_str)\n",
        "\n",
        "            # Проверка диапазона оценок при инициализации\n",
        "            for grade_val in [self.grade_subj1, self.grade_subj2, self.grade_subj3]:\n",
        "                if not (0 <= grade_val <= 100): # Примерный диапазон\n",
        "                    # Можно либо выбросить ошибку, либо просто предупредить\n",
        "                    print(f\"Предупреждение при инициализации: Оценка {grade_val} для студента {self.name} вне допустимого диапазона (0-100).\")\n",
        "                    # raise ValueError(f\"Оценка {grade_val} вне допустимого диапазона (0-100).\")\n",
        "        except ValueError:\n",
        "            # Если оценки не могут быть преобразованы, объект может быть создан\n",
        "            # в \"невалидном\" состоянии или можно выбросить исключение.\n",
        "            # Для примера, выбросим исключение, чтобы создание не удалось.\n",
        "            raise ValueError(\"Ошибка при инициализации: оценки должны быть числами.\")\n",
        "\n",
        "    def calculate_average_grade(self):\n",
        "        \"\"\"\n",
        "        Рассчитывает средний балл, используя оценки, сохраненные в объекте.\n",
        "        \"\"\"\n",
        "        # Проверка, что оценки существуют и являются числами (хотя __init__ уже должен был это обеспечить)\n",
        "        # Этот метод теперь полагается на то, что __init__ корректно установил числовые оценки\n",
        "        try:\n",
        "            average = (self.grade_subj1 + self.grade_subj2 + self.grade_subj3) / 3\n",
        "            return average\n",
        "        except AttributeError:\n",
        "            # Этого не должно произойти, если __init__ отработал без ошибок\n",
        "            return \"Ошибка: Оценки для студента не были корректно инициализированы.\"\n",
        "        except TypeError:\n",
        "             # Если оценки не числа (хотя __init__ должен был это проверить)\n",
        "            return \"Ошибка: Оценки должны быть числовыми для расчета.\"\n",
        "        except Exception as e:\n",
        "            return f\"Произошла ошибка при расчете: {e}\"\n",
        "\n",
        "    def get_student_info_with_average(self):\n",
        "        \"\"\"Возвращает строку с информацией о студенте и его среднем балле.\"\"\"\n",
        "        avg = self.calculate_average_grade()\n",
        "        if isinstance(avg, float):\n",
        "            return f\"Студент: {self.name}, Средний балл: {avg:.2f}\"\n",
        "        else:\n",
        "            return f\"Студент: {self.name}, Средний балл: ({avg})\" # Вывод ошибки, если есть\n",
        "\n",
        "# --- Программа для демонстрации (с __init__) ---\n",
        "print(\"\\n--- Способ 2: С использованием конструктора __init__ ---\")\n",
        "\n",
        "# Запрашиваем данные для создания студента\n",
        "student_name_input = input(\"Введите имя студента: \")\n",
        "g1_init_input = input(f\"Введите оценку по {Student_WithInit('temp', '0','0','0').subject1_name}: \") # небольшой трюк для имени дисциплины\n",
        "g2_init_input = input(f\"Введите оценку по {Student_WithInit('temp', '0','0','0').subject2_name}: \")\n",
        "g3_init_input = input(f\"Введите оценку по {Student_WithInit('temp', '0','0','0').subject3_name}: \")\n",
        "\n",
        "try:\n",
        "    # Создаем экземпляр студента, передавая оценки в конструктор\n",
        "    student1_with_init = Student_WithInit(student_name_input, g1_init_input, g2_init_input, g3_init_input)\n",
        "\n",
        "    # Вызываем метод для расчета среднего балла (он уже использует данные объекта)\n",
        "    avg_grade_init = student1_with_init.calculate_average_grade()\n",
        "\n",
        "    if isinstance(avg_grade_init, float):\n",
        "        print(f\"Средний балл для {student1_with_init.name}: {avg_grade_init:.2f}\")\n",
        "    else:\n",
        "        print(avg_grade_init) # Вывод сообщения об ошибке\n",
        "\n",
        "    # Используем другой метод для получения информации\n",
        "    print(student1_with_init.get_student_info_with_average())\n",
        "\n",
        "except ValueError as ve:\n",
        "    print(f\"Не удалось создать объект студента: {ve}\")\n",
        "except Exception as e:\n",
        "    print(f\"Произошла непредвиденная ошибка: {e}\")\n",
        "\n",
        "# Пример создания еще одного студента\n",
        "try:\n",
        "    student2_with_init = Student_WithInit(\"Елена\", \"90\", \"85\", \"92\") # Корректные данные\n",
        "    print(student2_with_init.get_student_info_with_average())\n",
        "except ValueError as ve:\n",
        "    print(f\"Не удалось создать объект студента: {ve}\")\n",
        "\n",
        "try:\n",
        "    student3_with_init = Student_WithInit(\"Петр\", \"70\", \"abc\", \"80\") # Некорректные данные\n",
        "    print(student3_with_init.get_student_info_with_average())\n",
        "except ValueError as ve:\n",
        "    print(f\"Не удалось создать объект студента: {ve}\") # Ожидаемая ошибка\n",
        "\n",
        "print(\"-\" * 30)"
      ]
    },
    {
      "cell_type": "markdown",
      "metadata": {
        "id": "ie-kAt8N8LDe"
      },
      "source": [
        "**Пояснения к Способу 2:**\n",
        "\n",
        "*   **Класс `Student_WithInit`**:\n",
        "    *   **`__init__(self, name, grade_subj1_str, grade_subj2_str, grade_subj3_str)`**:\n",
        "        *   Это конструктор. Он вызывается автоматически при создании объекта (`Student_WithInit(...)`).\n",
        "        *   Принимает имя и три оценки (как строки, так как `input()` возвращает строки).\n",
        "        *   Устанавливает атрибуты `self.name`, `self.grade_subj1`, `self.grade_subj2`, `self.grade_subj3`.\n",
        "        *   Включает преобразование оценок в `float` и обработку `ValueError`, если это не удается. Важно решить, что делать в случае ошибки: либо объект создается с \"невалидными\" оценками, либо (как в примере) выбрасывается исключение, и создание объекта прерывается.\n",
        "    *   **`calculate_average_grade(self)`**:\n",
        "        *   Этот метод теперь проще, так как он предполагает, что оценки уже корректно сохранены в `self.grade_subj1` и т.д. конструктором.\n",
        "        *   Ему не нужно принимать оценки как аргументы.\n",
        "    *   **`get_student_info_with_average(self)`**: Удобный метод для вывода полной информации.\n",
        "*   **Программа**:\n",
        "    *   Сначала запрашиваются все необходимые данные (имя, три оценки).\n",
        "    *   Затем создается объект `student1_with_init`, и все эти данные передаются в конструктор.\n",
        "    *   Метод `calculate_average_grade()` вызывается без аргументов.\n",
        "    *   Использование `try-except` вокруг создания объекта важно, так как конструктор может выбросить исключение, если данные некорректны.\n",
        "\n",
        "**Сравнение способов:**\n",
        "\n",
        "*   **Без `__init__`**:\n",
        "    *   Более гибкий в плане того, когда и как устанавливаются атрибуты.\n",
        "    *   Менее структурированный; может быть сложнее отследить, какие атрибуты ожидаются у объекта и в каком они состоянии.\n",
        "    *   Методам часто приходится принимать данные как аргументы, если они не были установлены как атрибуты экземпляра.\n",
        "*   **С `__init__`**:\n",
        "    *   **Предпочтительный способ** для определения начального состояния объекта.\n",
        "    *   Гарантирует (если `__init__` написан правильно), что объект будет создан с необходимыми атрибутами и в согласованном состоянии.\n",
        "    *   Делает код более читаемым и предсказуемым. Методы могут полагаться на то, что определенные атрибуты существуют.\n",
        "\n",
        "Для большинства случаев при работе с классами, представляющими сущности с определенным набором данных (как студент с оценками), **использование конструктора `__init__` является стандартной и рекомендуемой практикой.**"
      ]
    },
    {
      "cell_type": "markdown",
      "metadata": {},
      "source": [
        "1.3.2 Создайте функцию, которая считает и выводит в файл заработную \n",
        "плату сотрудника склада в зависимости от количества отработанных дней в \n",
        "месяце. Оклад является защищаемым атрибутом класса «сотрудник». "
      ]
    },
    {
      "cell_type": "code",
      "execution_count": null,
      "metadata": {},
      "outputs": [
        {
          "name": "stdout",
          "output_type": "stream",
          "text": [
            "Зарплата рассчитана и сохранена в salary.txt\n"
          ]
        }
      ],
      "source": [
        "class Employee:\n",
        "    def __init__(self, name, base_salary, working_days=20):\n",
        "        self.name = name\n",
        "        self._salary = base_salary\n",
        "        self.working_days = working_days\n",
        "    \n",
        "    def calculate_salary(self, days_worked, output_file=\"salary.txt\"):\n",
        "        \"\"\"Рассчитывает зарплату за месяц и записывает в файл.\"\"\"\n",
        "        if days_worked < 0 or days_worked > 31:\n",
        "            raise ValueError(\"Некорректное количество отработанных дней.\")\n",
        "        \n",
        "        daily_rate = self._salary / self.working_days\n",
        "        salary = daily_rate * days_worked\n",
        "        \n",
        "        with open(output_file, \"w\", encoding=\"utf-8\") as file:\n",
        "            file.write(\n",
        "                f\"Сотрудник: {self.name}\\n\"\n",
        "                f\"Оклад: {self._salary} руб.\\n\"\n",
        "                f\"Отработано дней: {days_worked}\\n\"\n",
        "                f\"Зарплата за месяц: {salary:.2f} руб.\"\n",
        "            )\n",
        "        \n",
        "        return salary\n",
        "\n",
        "# Пример использования\n",
        "if __name__ == \"__main__\":\n",
        "    employee = Employee(\"Шевалдышев Сергей\", 150000)\n",
        "    \n",
        "    try:\n",
        "        days = int(input(\"Введите количество отработанных дней: \"))\n",
        "        employee.calculate_salary(days)\n",
        "        print(\"Зарплата рассчитана и сохранена в salary.txt\")\n",
        "    except ValueError as e:\n",
        "        print(f\"Ошибка: {e}\")"
      ]
    },
    {
      "cell_type": "markdown",
      "metadata": {},
      "source": [
        "1.3.3 Используя результат предыдущего задания, создайте функцию \n",
        "начисления премии сотруднику, вычисляемую как 1% от уровня заработной \n",
        "платы."
      ]
    },
    {
      "cell_type": "code",
      "execution_count": 10,
      "metadata": {},
      "outputs": [
        {
          "name": "stdout",
          "output_type": "stream",
          "text": [
            "Зарплата рассчитана и сохранена в salary.txt\n"
          ]
        }
      ],
      "source": [
        "class Employee:\n",
        "    def __init__(self, name, base_salary, working_days=20):\n",
        "        self.name = name\n",
        "        self._salary = base_salary\n",
        "        self.working_days = working_days\n",
        "    \n",
        "    def calculate_award(self, salary):\n",
        "        return salary * 0.01\n",
        "    \n",
        "    def calculate_salary(self, days_worked, output_file=\"salary.txt\"):\n",
        "        \"\"\"Рассчитывает зарплату за месяц и записывает в файл.\"\"\"\n",
        "        if days_worked < 0 or days_worked > 31:\n",
        "            raise ValueError(\"Некорректное количество отработанных дней.\")\n",
        "        \n",
        "        daily_rate = self._salary / self.working_days\n",
        "        salary = daily_rate * days_worked\n",
        "        award = self.calculate_award(salary)\n",
        "        \n",
        "        with open(output_file, \"w\", encoding=\"utf-8\") as file:\n",
        "            file.write(\n",
        "                f\"Сотрудник: {self.name}\\n\"\n",
        "                f\"Оклад: {self._salary} руб.\\n\"\n",
        "                f\"Отработано дней: {days_worked}\\n\"\n",
        "                f\"Зарплата за месяц: {salary:.2f} руб.\\n\"\n",
        "                f\"Премия: {award} руб.\"\n",
        "            )\n",
        "        \n",
        "        return salary\n",
        "\n",
        "# Пример использования\n",
        "if __name__ == \"__main__\":\n",
        "    employee = Employee(\"Шевалдышев Сергей\", 150000)\n",
        "    \n",
        "    try:\n",
        "        days = int(input(\"Введите количество отработанных дней: \"))\n",
        "        employee.calculate_salary(days)\n",
        "        print(\"Зарплата рассчитана и сохранена в salary.txt\")\n",
        "    except ValueError as e:\n",
        "        print(f\"Ошибка: {e}\")"
      ]
    },
    {
      "cell_type": "markdown",
      "metadata": {},
      "source": [
        "1.3.4 Модифицируйте предыдущую программу, позволяющую вычислять \n",
        "заработную плату, премию для сотрудников и определять величину общего \n",
        "фонда заработной платы как сумму заработной платы и премий, деленную на \n",
        "коэффициент 0,7. Данные о сотрудниках вводятся через цикл while и \n",
        "записываются в соответствующий файл .txt или .xlsx."
      ]
    },
    {
      "cell_type": "code",
      "execution_count": 19,
      "metadata": {},
      "outputs": [
        {
          "name": "stdout",
          "output_type": "stream",
          "text": [
            "Зарплата рассчитана и сохранена в salary.txt\n"
          ]
        }
      ],
      "source": [
        "class Employee:\n",
        "    def __init__(self, name, base_salary, working_days=20):\n",
        "        self.name = name\n",
        "        self._salary = base_salary\n",
        "        self.working_days = working_days\n",
        "    \n",
        "    def calculate_award(self, salary):\n",
        "        return salary * 0.01\n",
        "    \n",
        "    def calculate_salary(self, days_worked, output_file=\"salary.txt\"):\n",
        "        \"\"\"Рассчитывает зарплату за месяц и записывает в файл.\"\"\"\n",
        "        if days_worked < 0 or days_worked > 31:\n",
        "            raise ValueError(\"Некорректное количество отработанных дней.\")\n",
        "        \n",
        "        daily_rate = self._salary / self.working_days\n",
        "        salary = daily_rate * days_worked\n",
        "        award = self.calculate_award(salary)\n",
        "        \n",
        "        with open(output_file, \"a\", encoding=\"utf-8\") as file:\n",
        "            file.write(\n",
        "                f\"Сотрудник: {self.name}\\n\"\n",
        "                f\"Оклад: {self._salary} руб.\\n\"\n",
        "                f\"Отработано дней: {days_worked}\\n\"\n",
        "                f\"Зарплата за месяц: {salary:.2f} руб.\\n\"\n",
        "                f\"Премия: {award} руб.\\n\\n\\n\"\n",
        "            )\n",
        "        \n",
        "        return salary + award\n",
        "\n",
        "# Пример использования\n",
        "if __name__ == \"__main__\":\n",
        "    fund = 0\n",
        "    while True:\n",
        "        try:\n",
        "            name = input(\"Введите имя сотрудника: \")\n",
        "            salary = int(input(\"Введите оклад: \"))\n",
        "            days = int(input(\"Введите количество отработанных дней: \"))\n",
        "\n",
        "            question = input(\"Хотите ли вы ввести ещё сотрудников (Да или Нет)?\")\n",
        "\n",
        "            employee = Employee(name, salary)\n",
        "            fund += employee.calculate_salary(days)\n",
        "            if question == \"Нет\":\n",
        "                print(\"Зарплата рассчитана и сохранена в salary.txt\")\n",
        "                break\n",
        "        except ValueError as e:\n",
        "            print(f\"Ошибка: {e}\")\n",
        "\n",
        "    with open(\"salary.txt\", \"a\", encoding=\"utf-8\") as file:\n",
        "        file.write(\n",
        "            f\"Фонд: {fund / 0.7:.2f}\\n\"\n",
        "        )"
      ]
    }
  ],
  "metadata": {
    "colab": {
      "collapsed_sections": [
        "udIB4JfA6ef6",
        "BHXJfqqA7IaI",
        "MYV-3Jq77h9g"
      ],
      "provenance": []
    },
    "kernelspec": {
      "display_name": "Python 3",
      "name": "python3"
    },
    "language_info": {
      "codemirror_mode": {
        "name": "ipython",
        "version": 3
      },
      "file_extension": ".py",
      "mimetype": "text/x-python",
      "name": "python",
      "nbconvert_exporter": "python",
      "pygments_lexer": "ipython3",
      "version": "3.13.2"
    }
  },
  "nbformat": 4,
  "nbformat_minor": 0
}
